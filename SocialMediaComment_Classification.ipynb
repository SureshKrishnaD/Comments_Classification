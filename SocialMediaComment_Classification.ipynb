{
 "cells": [
  {
   "cell_type": "code",
   "execution_count": 1,
   "id": "9ca3f7e5",
   "metadata": {},
   "outputs": [],
   "source": [
    "#model to identify the hate comments on social media\n",
    "\n",
    "#required packages for creating a model\n",
    "import pandas as pd\n",
    "from sklearn.preprocessing import LabelEncoder\n",
    "from sklearn.model_selection import train_test_split\n",
    "from sklearn.pipeline import Pipeline\n",
    "from sklearn.feature_extraction.text import TfidfVectorizer\n",
    "\n",
    "#RandomForestClassifier Algorithm\n",
    "from sklearn.ensemble import RandomForestClassifier\n",
    "from sklearn.metrics import accuracy_score"
   ]
  },
  {
   "cell_type": "code",
   "execution_count": 98,
   "id": "eab54bad",
   "metadata": {},
   "outputs": [],
   "source": [
    "import spacy\n",
    "nlp = spacy.load(\"en_core_web_sm\")\n",
    "\n",
    "# Preprocessing function\n",
    "def preprocess(text):\n",
    "    doc = nlp(text)\n",
    "    no_stop_words = [token.lemma_ for token in doc if not token.is_stop and not token.is_punct]\n",
    "    return \" \".join(no_stop_words)\n"
   ]
  },
  {
   "cell_type": "code",
   "execution_count": 95,
   "id": "9df1d951",
   "metadata": {},
   "outputs": [],
   "source": [
    "# importing dataset from excel\n",
    "df = pd.read_excel(r\"C:\\Users\\suresh\\Desktop2\\Machine Learning\\SocialMedia_Comments\\Hate_comments.xlsx\")"
   ]
  },
  {
   "cell_type": "code",
   "execution_count": 86,
   "id": "39a5ce35",
   "metadata": {},
   "outputs": [],
   "source": [
    "# Category the target variable\n",
    "le = LabelEncoder()\n",
    "df['Label'] = le.fit_transform(df['Label'])\n"
   ]
  },
  {
   "cell_type": "code",
   "execution_count": 87,
   "id": "a8142baf",
   "metadata": {},
   "outputs": [],
   "source": [
    "# Apply preprocessing\n",
    "df['Comment'] = df['Comment'].apply(preprocess)"
   ]
  },
  {
   "cell_type": "code",
   "execution_count": 88,
   "id": "934363e6",
   "metadata": {},
   "outputs": [],
   "source": [
    "# Split training and testing sets\n",
    "X = df['Comment']\n",
    "Y = df['Label']\n",
    "x_train, x_test, y_train, y_test = train_test_split(X, Y, test_size=0.2, random_state=42)"
   ]
  },
  {
   "cell_type": "code",
   "execution_count": 89,
   "id": "a4833852",
   "metadata": {},
   "outputs": [
    {
     "name": "stdout",
     "output_type": "stream",
     "text": [
      "Accuracy: 0.6374384236453202\n"
     ]
    }
   ],
   "source": [
    "# Define the pipeline\n",
    "tf = Pipeline([\n",
    "    ('vectorizer_tfidf', TfidfVectorizer()),\n",
    "    ('classifier', RandomForestClassifier())\n",
    "])\n",
    "\n",
    "# Fit the pipeline using training data\n",
    "tf.fit(x_train, y_train)\n",
    "\n",
    "# Predicting\n",
    "y_pred = tf.predict(x_test)\n",
    "\n",
    "# performance evaluation\n",
    "accuracy = accuracy_score(y_test, y_pred)\n",
    "print(\"Accuracy:\", accuracy)"
   ]
  },
  {
   "cell_type": "code",
   "execution_count": 94,
   "id": "bdc4b62a",
   "metadata": {},
   "outputs": [
    {
     "name": "stdout",
     "output_type": "stream",
     "text": [
      "Positive Comment\n"
     ]
    }
   ],
   "source": [
    "#predicting the comments on social media\n",
    "\n",
    "pred = ['The only thing we know for sure is both sides say they want a deal, but both say not at any price']\n",
    "predicted_label = tf.predict(pred)\n",
    "if(predicted_label==0):\n",
    "    print(\"Hate Comment\")\n",
    "elif(predicted_label==2):\n",
    "    print(\"Positive Comment\")\n"
   ]
  },
  {
   "cell_type": "code",
   "execution_count": null,
   "id": "b5b81573",
   "metadata": {},
   "outputs": [],
   "source": []
  },
  {
   "cell_type": "code",
   "execution_count": null,
   "id": "c489b799",
   "metadata": {},
   "outputs": [],
   "source": []
  },
  {
   "cell_type": "code",
   "execution_count": null,
   "id": "aa650906",
   "metadata": {},
   "outputs": [],
   "source": []
  }
 ],
 "metadata": {
  "kernelspec": {
   "display_name": "Python 3 (ipykernel)",
   "language": "python",
   "name": "python3"
  },
  "language_info": {
   "codemirror_mode": {
    "name": "ipython",
    "version": 3
   },
   "file_extension": ".py",
   "mimetype": "text/x-python",
   "name": "python",
   "nbconvert_exporter": "python",
   "pygments_lexer": "ipython3",
   "version": "3.10.9"
  }
 },
 "nbformat": 4,
 "nbformat_minor": 5
}
